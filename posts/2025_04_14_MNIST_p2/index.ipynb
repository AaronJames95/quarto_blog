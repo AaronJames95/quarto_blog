{
 "cells": [
  {
   "cell_type": "markdown",
   "id": "acedf5b9-f094-4871-8704-1e7d55858f97",
   "metadata": {},
   "source": [
    "---\n",
    "title: \"Classifying MNIST Digits (part 2)\"\n",
    "date: 2025-04-14\n",
    "slug: mnist-digits-2\n",
    "author: \"Aaron James\"\n",
    "categories: [machine learning, tutorial, fastai, MNIST]\n",
    "format:\n",
    "  html:\n",
    "    toc: true\n",
    "    code-fold: true\n",
    "---\n"
   ]
  },
  {
   "cell_type": "markdown",
   "id": "339825c3-780c-4f2a-b50f-c3414566fc7f",
   "metadata": {},
   "source": [
    "# Training a Digit Classification Model using MNIST Dataset (part 2)"
   ]
  },
  {
   "cell_type": "markdown",
   "id": "2a6fb1ed-e7ff-418e-8cd2-18a21cb7e86d",
   "metadata": {},
   "source": [
    "![Learning_Robot.png](Learning_Robot.png)"
   ]
  },
  {
   "cell_type": "markdown",
   "id": "6a5fc40b-3726-4f4d-be64-0344af1912f7",
   "metadata": {},
   "source": [
    "In [part 1](/posts/2025_04_14_MNIST_p1), we created a baseline for MNIST classification without using any ML/DL tools. The best we got was an **accuracy of 81.73%**; that's our target to beat with some new models! \n",
    "\n",
    "Now we can move onto actually doing ML and DL. We'll get into the difference shortly. First we just want to a quick code reproduction of part 1 so that we can use the output from the code and load it into memory. \n",
    "\n",
    "Here's a demo of my [completed model](https://huggingface.co/spaces/AaronJames95/MNIST_Digit_Classifier)."
   ]
  },
  {
   "cell_type": "code",
   "execution_count": 2,
   "id": "b2c23d71-ed96-4a6d-a561-675bac5e5830",
   "metadata": {},
   "outputs": [],
   "source": [
    "#hide\n",
    "! [ -e /content ] && pip install -Uqq fastbook\n",
    "import fastbook\n",
    "fastbook.setup_book()\n",
    "from fastai.vision.all import *\n",
    "from fastbook import *\n",
    "\n",
    "path = untar_data(URLs.MNIST)\n",
    "\n",
    "# Go crazy with list comprehensions and make all the datasets we need\n",
    "def create_dataset(top_dir):\n",
    "    # takes a top level directory and makes the aforementioned list of 3d tensors for each digit\n",
    "\n",
    "    # grab each of the paths for each digit directory in this folder\n",
    "    mnist_datatype_digit_paths = [p for p in top_dir.ls().sorted()] \n",
    "    \n",
    "    sample_images = []\n",
    "\n",
    "    for p in mnist_datatype_digit_paths:\n",
    "        # grab the path to each image included for the current digit\n",
    "        training_digit_im_paths = [im_path for im_path in p.ls().sorted()] \n",
    "        # open the image as tensors for each included image\n",
    "        training_image_tensors = [tensor(Image.open(im)) for im in training_digit_im_paths] \n",
    "        # turn the list of several pixel intensity matrices into a single 3D tensor\n",
    "        stacked_digit_tensors = torch.stack(training_image_tensors).float() / 255 \n",
    "        sample_images.append(stacked_digit_tensors)\n",
    "    return sample_images\n",
    "        \n",
    "mnist_dataset = {}\n",
    "mnist_dataset[\"training\"] = create_dataset((path/\"training\"))\n",
    "mnist_dataset[\"testing\"] = create_dataset((path/\"testing\"))\n"
   ]
  },
  {
   "cell_type": "markdown",
   "id": "52b0d862-2c33-4e66-9235-b63a4abf5f0a",
   "metadata": {},
   "source": [
    "## Machine Learning vs Deep Learning\n",
    "\n",
    "We are now going to solve this problem using machine learning. \"Machine Learning\" is a broad field that is all about a computer \"learning\" patterns in data, and then using those insights to make predictions or decisions. Typically there is a mathematical model that enables us to learn and apply what we've learned. \"Deep Learning\" is a subset of ML. In DL we use *layered* models to do the same thing on more complicated data. \n",
    "\n",
    "First we're going to focus on machine learning. Then we'll change our model to incorporate deep learning techniques.\n"
   ]
  },
  {
   "cell_type": "markdown",
   "id": "26aa5376-654b-43b7-b875-0527439926a2",
   "metadata": {},
   "source": [
    "## Explaining \"Learning\"\n",
    "\n",
    "How can we actually say that a computer \"learns\" something? They obviously don't have brains. [This notebook](google.com) created by Jeremy Howard gives a pretty great explanation. But I'll give my own attempted summary.\n",
    "\n",
    "Our goal is to find a way to predict data we don't have using data we do have. Typically, the data is something like a spreadsheet. Often there is some sort of input and output. We want to determine a way to use math to relate the inputs and the outputs of the data that we *do* have. If we can get that right on the data we *do* have, we can be relatively confident we can use it for *future predictions*. \n",
    "\n",
    "### Salary v Spending Example\n",
    "If we were relating salary vs monthly spending, we'd probably expect a fairly linear relationship. We might expect something like:\n",
    "\n",
    "$\\text{monthlySpending} = m\\times\\text{salary} + b$\n",
    "\n",
    "If we had that data for several hundred households, we could probably estimate the values of $m$ and $b$. If we could do this, then we would say that our computer \"learned\" something. We could then apply those \"learnings\". If we had the income of other people (but not their spending) we could use this model to predict their spending.\n",
    "\n",
    "So that's how we can say that a machine has \"learned\" something; it has estimated the parameters of a mathematical function that we think approximates the trend of the dataset accurately.\n"
   ]
  },
  {
   "cell_type": "markdown",
   "id": "70995595-63f9-43c9-92d5-a59d20996e7b",
   "metadata": {},
   "source": [
    "## Applying ML to MNIST Dataset\n",
    "\n",
    "My goal here is to create something where I give it an image and it tells me the likelihood that the image is each of the 10 digits. I don't just want it to work for *this* dataset, I want it to work for any image. \n",
    "\n",
    "Actually applying these concepts in code was pretty hard for me. I didn't just use the easy high-level fastai provided code (libraries), I had to get into the details and create most of the training loop myself. The first thing I had to do was format the data for this process. To get this to work properly, each image needs to be associated with a label. I also had to reformat the tensors so the computer could process them better."
   ]
  },
  {
   "cell_type": "code",
   "execution_count": 3,
   "id": "a877560d-f832-4e59-b3e9-5b6560f81301",
   "metadata": {},
   "outputs": [],
   "source": [
    "# Set up training and validation datasets\n",
    "def test_train_labels_aligned(md, dtype, train_x, train_y):\n",
    "    training_digits = 0\n",
    "    for d in range(len(md[dtype]) - 1):\n",
    "        training_digits += len(md[dtype][d])\n",
    "        assert(train_y[training_digits - 1] == d)\n",
    "        assert(train_y[training_digits] == d + 1)\n",
    "        \n",
    "train_x = torch.cat(mnist_dataset[\"training\"]).view(-1,28*28)\n",
    "train_y = tensor([d for d, items in enumerate(mnist_dataset[\"training\"]) for _ in items]).unsqueeze(1)\n",
    "\n",
    "# test that the labels lign up correctly\n",
    "test_train_labels_aligned(mnist_dataset, \"training\", train_x, train_y)\n",
    "\n",
    "valid_x = torch.cat(mnist_dataset[\"testing\"]).view(-1,28*28)\n",
    "valid_y = tensor([d for d, items in enumerate(mnist_dataset[\"testing\"]) for _ in items]).unsqueeze(1)\n",
    "\n",
    "test_train_labels_aligned(mnist_dataset, \"testing\", valid_x, valid_y)\n",
    "\n",
    "# Zip x and y together for each datatype\n",
    "dset_training = list(zip(train_x, train_y))\n",
    "dset_validation = list(zip(valid_x, valid_y))"
   ]
  },
  {
   "cell_type": "markdown",
   "id": "b4d83642-76a7-497f-8937-3c189dd18ba6",
   "metadata": {},
   "source": [
    "This was pretty straightforward, but then I really struggled with how to do ML for 10 digits:\n",
    "\n",
    "\"Ugh this is hard. I pretty much just thought for like a few hours straight and overnight. Turning this problem into a spreadsheet was my first step and I should include it here...\""
   ]
  },
  {
   "cell_type": "markdown",
   "id": "754d2828-1112-4ace-9ecb-b5b5b4ead258",
   "metadata": {},
   "source": [
    "![\"Sketch Spreadsheet\"](MNIST_sheet.png)\n",
    "\n",
    "\n",
    "\n",
    "\n"
   ]
  },
  {
   "cell_type": "markdown",
   "id": "30891443-6ccf-4e0e-b48f-df9601eb3934",
   "metadata": {},
   "source": [
    "Thought Process Continued:\n",
    "\n",
    "> \"I think its like, you basically want a model with 10 sets of weights and biases that each do binary prediction that a photo is a digit. So you probably have to train 10 models? How to turn this into a training loop though. But what if the (hold on, eureka incoming) what if the parameters w and b are mega tensors? So 3D tensors that have an axis that contains all the digit data predictions together? Because the thing that's hard is the output should NOT be a number between 0 and 9. That would imply that a 2.5 would be an image that is most similar to 2 and 5, but 2 and 5 are not similar looking digits. So we have to do multi-factor classification. I'm sure there is some official way to do this but I want to try doing it myself first.\""
   ]
  },
  {
   "cell_type": "markdown",
   "id": "1326c833-c917-40b2-ac8e-a35df29d4faf",
   "metadata": {},
   "source": [
    "## A Detour into Binary Classification\n",
    "\n",
    "It was so hard I took a step back. I needed to refresh my memory on how to do all this. I ended up rewriting a binary classification training loop for the digit 0. This model should be able to determine if any image is a zero or not a zero."
   ]
  },
  {
   "cell_type": "markdown",
   "id": "2aafeadd-b995-48c1-ab39-72aadf1bc61c",
   "metadata": {},
   "source": [
    "### Stochastic Gradient Descent\n",
    "\n",
    "More fancy words to make simple things sound complicated. We talked earlier about the fact that \"learning\" means estimating the parameters of a model (math equation, function) that fits our dataset. How do we use a computer to estimate the parameters of a function? We use Stochastic Gradient Descent (SGD). The [linked notebook](https://www.kaggle.com/code/jhoward/how-does-a-neural-net-really-work) goes into really good depth on what exactly this is. Before we start applying this step, we really need to decide on a model. We use a linear model in this notebook for our machine learning example because its one of the simplest models there is. \n",
    "\n",
    "#### Steps for SGD\n",
    "0. **Decide on a model**: We have chosen the linear model $y = mx + b$\n",
    "1. **Initialize parameters**: We come up with some random guesses for our parameters $m$ and $b$.\n",
    "2. **Predict**: We use our data and our initial parameters to make a prediction. The first time we do this we will always have a very poor prediction.\n",
    "3. **Calculate the loss**: We haven't really talked about loss yet. We brushed on it in the last post. Basically, we need a numerical way of determining *how* wrong we are. We compared L1 norm and L2 norm (RMSE) in the last post, and it turned out that RMSE worked better for our dataset and current use case. Keep in mind that this is now *another* equation. Our model is about predicting the data, and our loss is about estimating the accuracy of our data. Two different equations. \n",
    "4. **Calculate the Gradient**. And here's the hardest math part. Again here's [Jeremy's SGD Post](https://www.kaggle.com/code/jhoward/how-does-a-neural-net-really-work). *Very basically*, we use calculus to determine how much each parameter needs to change so that when we make our next prediction, our loss is smaller. We can use these numerical methods so we *don't* have to make a random guess for our next estimate, it will be a very precise estimate based on the principles of multi-variate calculus.\n",
    "5. **Step the parameters**: We now adjust the parameters based on the gradient. We nudge them in the direction of a smaller loss that our previous gradients predicted.\n",
    "6. **Repeat the process with Step 2**. The two magic parts of this are the gradient, and the various iterations. If we can keep nudging out parameters in the right direction (with the gradient), and do it iteratively (step 6) eventually our loss will get closer and closer to zero. This is good. If loss is the difference between the prediction and the right answer, it will be very helpful if that distance is minimized\n",
    "7. **Stop**. We can't just iterate forever. We will likely have some imposed criteria that we will hit that will tell us we can stop. For example, we could iterate until we beat our baseline that we got in the last post. However we define it, we will have to stop at some point to be able to apply the learnings of our model\n",
    "\n"
   ]
  },
  {
   "cell_type": "markdown",
   "id": "66cfcbe2-1b14-4073-ad63-9db23b8f88ae",
   "metadata": {},
   "source": [
    "Then I go into the code for making this all work. This first chunk for the binary 0 classifier is bad code. I'm including it because its \"functional\" and because it documents my thought process. I wrote it mostly from memory using the steps of SGD."
   ]
  },
  {
   "cell_type": "code",
   "execution_count": 4,
   "id": "1c5023d1-5eda-4c5e-a625-cc812639e3b8",
   "metadata": {},
   "outputs": [],
   "source": [
    "def create_0_binary_class_dset():\n",
    "    # We modify the dset creation above\n",
    "    train_x_0 = torch.cat(mnist_dataset[\"training\"]).view(-1,28*28)\n",
    "    training_0s = len(mnist_dataset[\"training\"][0])\n",
    "    train_y_0 = tensor([1]*training_0s + [0]*(len(train_y)-training_0s)).unsqueeze(1)\n",
    "\n",
    "    valid_x_0 = torch.cat(mnist_dataset[\"testing\"]).view(-1,28*28)\n",
    "    testing_0s = len(mnist_dataset[\"testing\"][0])\n",
    "    valid_y_0 = tensor([1]*testing_0s + [0]*(len(valid_y)-testing_0s)).unsqueeze(1)\n",
    "\n",
    "    dset_train_0 = list(zip(train_x_0, train_y_0))\n",
    "    dset_valid_0 = list(zip(valid_x_0, valid_y_0))\n",
    "    \n",
    "    return dset_train_0, dset_valid_0"
   ]
  },
  {
   "cell_type": "code",
   "execution_count": 5,
   "id": "f29ac276-c628-4ae8-8751-d13db8084c14",
   "metadata": {},
   "outputs": [
    {
     "name": "stdout",
     "output_type": "stream",
     "text": [
      "accuracy tensor(0.9007)\n",
      "accuracy tensor(0.8996)\n",
      "accuracy tensor(0.9012)\n",
      "accuracy tensor(0.9041)\n",
      "accuracy tensor(0.9012)\n",
      "accuracy tensor(0.8998)\n",
      "accuracy tensor(0.9013)\n",
      "accuracy tensor(0.9013)\n",
      "accuracy tensor(0.9028)\n",
      "accuracy tensor(0.9043)\n"
     ]
    }
   ],
   "source": [
    "def init_params(shape, std = 1.0): return (torch.randn(shape)*std).requires_grad_()\n",
    "\n",
    "def model_linear(xb, weights, bias): return xb@weights + bias\n",
    "\n",
    "def loss_0_bin(preds, y_labels):\n",
    "    preds = preds.sigmoid()\n",
    "    return torch.where(y_labels == 1, 1 - preds, preds).mean()\n",
    "\n",
    "def batch_acc(xb_preds, yb):\n",
    "    preds = xb_preds.sigmoid()\n",
    "    correct_preds = (preds > 0.5) == yb\n",
    "    return correct_preds.float().mean()\n",
    "    \n",
    "def main():\n",
    "    # Turn the dataset into randomized dataloaders\n",
    "    dset_train, dset_valid = create_0_binary_class_dset()\n",
    "    dl_train = DataLoader(dset_train, batch_size=256, shuffle=True)\n",
    "    dl_valid = DataLoader(dset_valid, batch_size=256, shuffle=True)\n",
    "\n",
    "    #1. Initialize parameters\n",
    "    weights = init_params((28*28,1))\n",
    "    bias = init_params(1)\n",
    "    lr = .75\n",
    "\n",
    "    epochs = 10\n",
    "    for _ in range(epochs):\n",
    "        for xb, yb in dl_train:\n",
    "            # 2. Make a prediction\n",
    "            # preds will be a vector with an output for each image in the batch. so 256x1\n",
    "            #print(xb.shape)\n",
    "            preds = model_linear(xb, weights, bias)\n",
    "            # 3. Calculate Loss\n",
    "            loss = loss_0_bin(preds, yb)\n",
    "            # 4. Get gradients\n",
    "            loss.backward()\n",
    "            weights.data -= weights.grad*lr\n",
    "            weights.grad.zero_()\n",
    "            bias.data -= bias.grad*lr\n",
    "            bias.grad.zero_()\n",
    "        # Now, because the params w/b have been modified slightly by each batch, we can determine how good they are now.\n",
    "        accs = [batch_acc(model_linear(xb, weights, bias), yb) for xb, yb in dl_valid]\n",
    "        print(\"accuracy\",torch.stack(accs).mean())\n",
    "\n",
    "main()\n",
    "\n"
   ]
  },
  {
   "cell_type": "markdown",
   "id": "10972863-33b4-461b-836f-af71f8abaae4",
   "metadata": {},
   "source": [
    "Something I also had to add was determining the accuracy of each epoch (or training iteration). We want to be able to have some sense of if what we're doing is working. I train the model on the *training data*, then I test of accuracy with the *validation data* which is what we did in the last post. \n",
    "\n",
    "Interestingly enough, after only one epoch  we get accuracy of ~90%. Keep in mind this is still just binary classification, but it goes to show how quickly we can get acccurately tuned parameters. \n"
   ]
  },
  {
   "cell_type": "markdown",
   "id": "97f67355-e9ec-4aa9-a98a-5b1987be0212",
   "metadata": {},
   "source": [
    "## Returning to Full Multi-Class Classification\n",
    "\n",
    "Ok, I'm glad I took that detour. Now I can just slightly modify what I did to apply it to a multi class. I think it makes sense to go through the changes first before I show off what I built.\n",
    "\n",
    "### Binary vs. Multi-Class Classification Differences\n",
    "The first thing I did was make my code a bit more readable by breaking it into functions. Actually, I pretty much just used the ones from the fastai lesson. \n",
    "\n",
    "There were really only 3 main pieces that had to change:\n",
    "\n",
    "1. **Initializing the parameters**: For binary classification, each image only needs one output which is essentially true/false to the question, \"is this image a zero?\". For multi-class, each image needs 10 different scores. We do this by changing our `weights` and `biases` initialization. They change from `weights, bias = init_params((28*28,1)), init_params(1)` to `weights, bias = init_params((28*28,10)), init_params(10)`. A note: all I had to do was add TWO ZEROES but this took me forever to figure out...\n",
    "2. **Loss Function**: This was really tricky too. I'll get into it shortly.\n",
    "3. **Accuracy Function**: We just had to see if the prediction lined up with the actual correct answer. I did it by finding the index of the 1x10 vector that was highest. Since I set my data up this way, we know that that index corresponds *exactly* to the labels we had in our \"correct answers\" data (y_label or targets). If I was classifying dog breeds, I'd have to come up with a different way of doing this, likely using a map that maps indices to the corresponding breed. It's very convenient that index corresponds perfectly with the label.\n"
   ]
  },
  {
   "cell_type": "markdown",
   "id": "5c01d422-2710-43a0-95de-6ef28e7df3fa",
   "metadata": {},
   "source": [
    "### A New Loss Calculation\n",
    "Ok so I realized that we needed another one. My plan was to determine which digit that the parameters predicted the image was, compare it to the correct target labels, and then get the average number of misses per batch as my loss function. Two issues with this. First was implementation. If I use argmax on the prediction variable, I lose gradient tracking of my parameters w and b. So our whole stochastic gradient descent method falls apart. Second was conceptual. If this did work somehow, I'm not being optimal. My model would treat these two classifications of a 6 the same:\n",
    "\n",
    "* High Confidence 6: `[0.01, 0.01, 0.02, 0.02, 0.01, 0.01, 0.90, 0.01, 0.01, 0.01]`\n",
    "* Low Confidence 6:  `[0.09, 0.10, 0.08, 0.10, 0.10, 0.08, 0.13, 0.09, 0.11, 0.12]`\n",
    "  \n",
    "Both of these prediction outputs predict a 6 because the seventh value is highest. However, the first output predicts it more optimally because it is significantly more confident that it is a 6 than any other digit.\n",
    "\n",
    "Our loss function is really important. It's our way of telling the model EXACTLY what we want it to do using math. We don't just want our model to get the right classification, we want it to get the right classification *and be extremely confident about it*. "
   ]
  },
  {
   "cell_type": "markdown",
   "id": "efcfd609-d2d0-4141-bf45-04d675a4fa3a",
   "metadata": {},
   "source": [
    "I just wanted to understand the math behind this better. Apparently the right way to do this problem is to use `log_softmax()`, where softmax is:\n",
    "\n",
    "$\\text{softmax}(r) = \\frac{e^{r_i}}{\\sum_{j} r_j}$"
   ]
  },
  {
   "cell_type": "code",
   "execution_count": 6,
   "id": "ee438a0d-545d-43b4-9b51-e645be6db56a",
   "metadata": {},
   "outputs": [],
   "source": [
    "# I just need to convince myself I understand the math of this new loss function...\n",
    "r = tensor([2.0, 1.0, 0.1])\n",
    "\n",
    "exp_r= torch.exp(r)\n",
    "norm_exp_r = exp_r/exp_r.sum()\n",
    "assert(torch.allclose(norm_exp_r, F.softmax(r, dim=0), atol=1e-4))\n",
    "log_norm_exp_r = torch.log(norm_exp_r)\n",
    "assert(torch.allclose(log_norm_exp_r, r.log_softmax(dim=0), atol=1e-4))\n"
   ]
  },
  {
   "cell_type": "markdown",
   "id": "2ce9d718-6070-45a3-94fa-f9f490e3ad3a",
   "metadata": {},
   "source": [
    "Softmax makes it so that the sum of the predictions vector is 1, which is essentially turning it into a vector of percentages that the current image is each of the 10 digits.\n",
    "\n",
    "Here's how our loss function modifies the input to make it better and better:\n",
    "\n",
    "* Raw Predictions: The index that contains the highest value is our predicted digit, no correlation to other values.\n",
    "* Softmax: Probabilities that image could be the digit at each index. Sum is 1, so these are relative to the other values in the vector. For example, if the first number is .75 and the second is .25, then the others have to all be 0, even if they were non zero at the last stage. Relativizing the prediction allows us to get more information from a single number.\n",
    "* Log Softmax: This emphasizes penalty when the prediction is confidently incorrect, and still gives a small penalty when it gets the correct prediction not confidently. It's the distribution of the -log function. It's really similar to the way that we used RMSE to mega-penalize certain mistakes in part 1. It's kind of like partial credit in math class. Oh, you were supposed to say this image was a 7? Were you:\n",
    "    * Right and confident? p=0.9: You don't lose any points\n",
    "    * Right, but not sure? p=0.5: You lose a few point\n",
    "    * Confidently incorrect? p=0.1: You lose lots of points"
   ]
  },
  {
   "cell_type": "code",
   "execution_count": 7,
   "id": "0910a5d6-afff-4411-ac09-426b37e3caec",
   "metadata": {},
   "outputs": [
    {
     "data": {
      "text/plain": [
       "(tensor([0.0873, 0.0873, 0.0882, 0.0882, 0.0873, 0.0873, 0.2126, 0.0873, 0.0873, 0.0873]),\n",
       " tensor([0.0990, 0.1000, 0.0980, 0.1000, 0.1000, 0.0980, 0.1030, 0.0990, 0.1010, 0.1020]),\n",
       " tensor([2.4384, 2.4384, 2.4284, 2.4284, 2.4384, 2.4384, 1.5484, 2.4384, 2.4384, 2.4384]),\n",
       " tensor([2.3127, 2.3027, 2.3227, 2.3027, 2.3027, 2.3227, 2.2727, 2.3127, 2.2927, 2.2827]))"
      ]
     },
     "execution_count": 7,
     "metadata": {},
     "output_type": "execute_result"
    }
   ],
   "source": [
    "# Why do we take log of soft_max? Check index 6 (or the seventh digit) of the output\n",
    "high_conf = tensor([0.01, 0.01, 0.02, 0.02, 0.01, 0.01, 0.90, 0.01, 0.01, 0.01])\n",
    "low_conf = tensor([0.09, 0.10, 0.08, 0.10, 0.10, 0.08, 0.13, 0.09, 0.11, 0.12])\n",
    "\n",
    "F.softmax(high_conf, dim=0), F.softmax(low_conf, dim=0), -high_conf.log_softmax(dim=0), -low_conf.log_softmax(dim=0),   \n"
   ]
  },
  {
   "cell_type": "markdown",
   "id": "0da93aaf-2b4b-4952-8642-d4a11b6fe472",
   "metadata": {},
   "source": [
    "The seventh prediction (corresponding to digit 6 since the first prediction is for 0) is what to focus on. With `log_softmax()` there is a much greater difference for the low confidence and high confidence predictions. This means that we have packed lots of information into a single digit, which is great for our model and highly optimal."
   ]
  },
  {
   "cell_type": "markdown",
   "id": "0c4108db-3b75-4e4a-b20e-70d61a59b344",
   "metadata": {},
   "source": [
    "## Final Code for Multi-Class MNIST Low-Level Training Loop "
   ]
  },
  {
   "cell_type": "code",
   "execution_count": 8,
   "id": "70fb2d9c-2f37-4961-854f-433302803249",
   "metadata": {},
   "outputs": [
    {
     "name": "stdout",
     "output_type": "stream",
     "text": [
      "0.0965\n",
      "0.7646\n",
      "0.8165\n",
      "0.8429\n",
      "0.8542\n",
      "0.8629\n",
      "0.8701\n",
      "0.8687\n",
      "0.8738\n",
      "0.8785\n",
      "0.8822\n",
      "0.8799\n",
      "0.8878\n",
      "0.8855\n",
      "0.8871\n",
      "0.8911\n",
      "0.8893\n",
      "0.8934\n",
      "0.8907\n",
      "0.8931\n",
      "0.8936\n"
     ]
    }
   ],
   "source": [
    "# Basically we want the shape of logits that we had in the golden mean baseline, so our parameters have to mirror that shape\n",
    "# Declare global params variable. I know there's a better OOP way to do this, but it's chill...\n",
    "\n",
    "# Turn the dataset into randomized dataloaders\n",
    "dl_train = DataLoader(dset_training, batch_size=256, shuffle=True)\n",
    "dl_valid = DataLoader(dset_validation, batch_size=256, shuffle=True)\n",
    "\n",
    "#1. Initialize parameters\n",
    "lr = .25\n",
    "epochs = 20\n",
    "weights = init_params((28*28,10))\n",
    "bias = init_params(10)\n",
    "params = weights,bias\n",
    "\n",
    "def main_multi_class():\n",
    "    print(validate_epoch(linear_1))\n",
    "    for _ in range(epochs):\n",
    "        train_epoch(linear_1, lr, dl_train)\n",
    "        print(validate_epoch(linear_1))\n",
    "\n",
    "def init_params(shape, std = 1.0): return (torch.randn(shape)*std).requires_grad_()\n",
    "\n",
    "def linear_1(xb): \n",
    "    w, b = params\n",
    "    #print(\"model\", w, b)\n",
    "    return xb@w + b\n",
    "\n",
    "def mnist_loss(preds, yb):\n",
    "    #print(preds.shape, yb.shape)\n",
    "    yb = yb.squeeze()\n",
    "    log_sm_probs = preds.log_softmax(dim=1)\n",
    "    return -log_sm_probs[range(len(yb)), yb].mean()\n",
    "    \n",
    "def train_epoch(model, lr, dl):\n",
    "    for xb,yb in dl:\n",
    "        calc_grad(xb, yb, model)\n",
    "        for p in params:\n",
    "            p.data -= p.grad*lr\n",
    "            p.grad.zero_()\n",
    "\n",
    "def calc_grad(xb, yb, model):\n",
    "    preds = model(xb)\n",
    "    loss = mnist_loss(preds, yb)\n",
    "    #print(loss.shape)\n",
    "    loss.backward()\n",
    "\n",
    "def validate_epoch(model):\n",
    "    accs = [batch_accuracy(model(xb), yb) for xb,yb in dl_valid]\n",
    "    return round(torch.stack(accs).mean().item(), 4)\n",
    "\n",
    "def batch_accuracy(preds, yb):\n",
    "    max_indices = preds.argmax(dim=1).unsqueeze(1)\n",
    "    #print(\"args\", max_indices)\n",
    "    correct = (max_indices == yb)\n",
    "    acc = correct.float().mean()\n",
    "    return acc\n",
    "\n",
    "main_multi_class()"
   ]
  },
  {
   "cell_type": "markdown",
   "id": "108fa5af-2738-44aa-9441-93db146e00a2",
   "metadata": {},
   "source": [
    "## A Pivot Point\n",
    "So, amazingly we have just \"succeeded\"! We have built a machine learning model that is able to classify digits in the MNIST dataset, and that outperforms our baseline classification of 81.73%! There's a few more things to consider but this is definitely a moment to celebrate and enjoy. We've used what we have been learning to outperform our benchmark. Good job.\n",
    "\n",
    "We will now slightly optimize the code, and then we'll look at some deep learning models. Remember, the linear model is just an example of machine learning, and we're interested in comparing the performance of both.\n"
   ]
  },
  {
   "cell_type": "markdown",
   "id": "a8ef1715-7fd0-400a-a9dc-cf9a9b3df8a8",
   "metadata": {},
   "source": [
    "## Optimizing the Code\n",
    "Ok, so what we did was the custom version of this. We now want to take steps to create the fastai/pyTorch extraction.\n",
    "\n",
    "\n",
    "Everything we have just completed actually works. However, we have just been looking under the hood. These details matter for my comprehension of the math and coding, but for actual training I would never create a custom training loop. This training loop is the main engine that drives most ML systems and we just built it from scratch. Think about a car engine. There's no way I will ever need to build a car engine from scratch. If I'm building my own car, I might buy an engine, and knowledge of how it works will help me choose which to buy for the car I want to build. Most people will just end up buying the whole car and be blissfully unaware of the fact that it comes with a functioning engine. \n",
    "\n",
    "\n",
    "In this analogy, fastai is the engine factory. So we will shape our custom engine into something closer to what gets produced in the factory. One thing to consider is that the pytorch library provides several models as a part of its packaging like `nn.Linear`. Instead of writing our own version of this, we want to use the one that is already provided. We also need an \"optimizer\", so that we mirror the factory more accurately."
   ]
  },
  {
   "cell_type": "code",
   "execution_count": 9,
   "id": "a9e75499-4e7a-43ef-a751-cde87b58de82",
   "metadata": {},
   "outputs": [],
   "source": [
    "linear_model = nn.Linear(28*28,10)\n",
    "\n",
    "class BasicOptim:\n",
    "    def __init__(self,params,lr): self.params,self.lr = list(params),lr\n",
    "\n",
    "    def step(self, *args, **kwargs):\n",
    "        for p in self.params: p.data -= p.grad.data * self.lr\n",
    "\n",
    "    def zero_grad(self, *args, **kwargs):\n",
    "        for p in self.params: p.grad = None\n",
    "\n",
    "opt = BasicOptim(linear_model.parameters(), lr)\n",
    "\n",
    "def train_epoch(model):\n",
    "    for xb,yb in dl_train:\n",
    "        #print(xb.dtype, yb.dtype)\n",
    "        calc_grad(xb, yb, model)\n",
    "        opt.step()\n",
    "        opt.zero_grad()\n"
   ]
  },
  {
   "cell_type": "markdown",
   "id": "a12273d0-b9fc-4530-839f-8c8f9fdbfb71",
   "metadata": {},
   "source": [
    "Turning the parameters into class variables makes the code stronger. Earlier we had to rely on a global params variable. In our tiny use case this was no problem, but as the codebase grows global variables are a terrible idea.\n",
    "\n",
    "Then, we create a new optimizer and redefine our training function. This is the only change we have to make to get the same results as before!"
   ]
  },
  {
   "cell_type": "code",
   "execution_count": 10,
   "id": "545678bc-9546-4fdc-bcd7-0f0408e3e410",
   "metadata": {},
   "outputs": [
    {
     "name": "stdout",
     "output_type": "stream",
     "text": [
      "0.087 0.9045 0.9125 0.9155 0.9151 0.9197 0.9178 0.9211 0.9211 0.9195 0.9223 0.9227 0.9226 0.9207 0.924 0.9214 0.9234 0.9247 0.9256 0.9214 0.9247 "
     ]
    }
   ],
   "source": [
    "def train_model(model, epochs):\n",
    "    for i in range(epochs):\n",
    "        train_epoch(model)\n",
    "        print(validate_epoch(model), end=' ')\n",
    "\n",
    "\n",
    "print(validate_epoch(linear_model), end=' ')\n",
    "train_model(linear_model, 20)"
   ]
  },
  {
   "cell_type": "markdown",
   "id": "8988fcf2-750c-428a-9c9c-084990704288",
   "metadata": {},
   "source": [
    "Pretty good. We can do the same thing the actual RIGHT way using fastai classes\n"
   ]
  },
  {
   "cell_type": "code",
   "execution_count": 11,
   "id": "938f88f9-2e1d-460d-a66c-850a8d975a18",
   "metadata": {},
   "outputs": [
    {
     "name": "stdout",
     "output_type": "stream",
     "text": [
      "0.9095 0.9143 0.9174 0.9186 0.9194 0.9204 0.9245 0.9215 0.9226 0.9232 0.9242 0.9229 0.9244 0.9246 0.9243 0.9237 0.9234 0.9222 0.9218 0.9248 "
     ]
    },
    {
     "data": {
      "text/html": [
       "\n",
       "<style>\n",
       "    /* Turns off some styling */\n",
       "    progress {\n",
       "        /* gets rid of default border in Firefox and Opera. */\n",
       "        border: none;\n",
       "        /* Needs to be in here for Safari polyfill so background images work as expected. */\n",
       "        background-size: auto;\n",
       "    }\n",
       "    progress:not([value]), progress:not([value])::-webkit-progress-bar {\n",
       "        background: repeating-linear-gradient(45deg, #7e7e7e, #7e7e7e 10px, #5c5c5c 10px, #5c5c5c 20px);\n",
       "    }\n",
       "    .progress-bar-interrupted, .progress-bar-interrupted::-webkit-progress-bar {\n",
       "        background: #F44336;\n",
       "    }\n",
       "</style>\n"
      ],
      "text/plain": [
       "<IPython.core.display.HTML object>"
      ]
     },
     "metadata": {},
     "output_type": "display_data"
    },
    {
     "data": {
      "text/html": [
       "<table border=\"1\" class=\"dataframe\">\n",
       "  <thead>\n",
       "    <tr style=\"text-align: left;\">\n",
       "      <th>epoch</th>\n",
       "      <th>train_loss</th>\n",
       "      <th>valid_loss</th>\n",
       "      <th>batch_accuracy</th>\n",
       "      <th>time</th>\n",
       "    </tr>\n",
       "  </thead>\n",
       "  <tbody>\n",
       "    <tr>\n",
       "      <td>0</td>\n",
       "      <td>0.372398</td>\n",
       "      <td>0.331982</td>\n",
       "      <td>0.908200</td>\n",
       "      <td>00:00</td>\n",
       "    </tr>\n",
       "    <tr>\n",
       "      <td>1</td>\n",
       "      <td>0.316947</td>\n",
       "      <td>0.303885</td>\n",
       "      <td>0.916700</td>\n",
       "      <td>00:00</td>\n",
       "    </tr>\n",
       "    <tr>\n",
       "      <td>2</td>\n",
       "      <td>0.302206</td>\n",
       "      <td>0.293496</td>\n",
       "      <td>0.918900</td>\n",
       "      <td>00:00</td>\n",
       "    </tr>\n",
       "    <tr>\n",
       "      <td>3</td>\n",
       "      <td>0.294819</td>\n",
       "      <td>0.288783</td>\n",
       "      <td>0.918600</td>\n",
       "      <td>00:00</td>\n",
       "    </tr>\n",
       "    <tr>\n",
       "      <td>4</td>\n",
       "      <td>0.293716</td>\n",
       "      <td>0.285339</td>\n",
       "      <td>0.920900</td>\n",
       "      <td>00:00</td>\n",
       "    </tr>\n",
       "    <tr>\n",
       "      <td>5</td>\n",
       "      <td>0.283038</td>\n",
       "      <td>0.277278</td>\n",
       "      <td>0.922900</td>\n",
       "      <td>00:00</td>\n",
       "    </tr>\n",
       "    <tr>\n",
       "      <td>6</td>\n",
       "      <td>0.273962</td>\n",
       "      <td>0.275699</td>\n",
       "      <td>0.920400</td>\n",
       "      <td>00:00</td>\n",
       "    </tr>\n",
       "    <tr>\n",
       "      <td>7</td>\n",
       "      <td>0.272748</td>\n",
       "      <td>0.276465</td>\n",
       "      <td>0.921400</td>\n",
       "      <td>00:00</td>\n",
       "    </tr>\n",
       "    <tr>\n",
       "      <td>8</td>\n",
       "      <td>0.265907</td>\n",
       "      <td>0.276644</td>\n",
       "      <td>0.919700</td>\n",
       "      <td>00:00</td>\n",
       "    </tr>\n",
       "    <tr>\n",
       "      <td>9</td>\n",
       "      <td>0.279539</td>\n",
       "      <td>0.274251</td>\n",
       "      <td>0.921500</td>\n",
       "      <td>00:00</td>\n",
       "    </tr>\n",
       "  </tbody>\n",
       "</table>"
      ],
      "text/plain": [
       "<IPython.core.display.HTML object>"
      ]
     },
     "metadata": {},
     "output_type": "display_data"
    }
   ],
   "source": [
    "lr = .5\n",
    "linear_model = nn.Linear(28*28,10)\n",
    "opt = SGD(linear_model.parameters(), lr)\n",
    "train_model(linear_model, 20)\n",
    "\n",
    "dls = DataLoaders(dl_train, dl_valid)\n",
    "\n",
    "learn = Learner(dls, nn.Linear(28*28,10), opt_func=SGD,\n",
    "                loss_func=mnist_loss, metrics=batch_accuracy)\n",
    "\n",
    "learn.fit(10, lr=lr)"
   ]
  },
  {
   "cell_type": "markdown",
   "id": "2f7c42fc-7d6d-4ef2-848a-1dc238840fac",
   "metadata": {},
   "source": [
    "So what we just did was rewrite the custom engine using prebuilt parts. We proved that our custom engine was almost as functional as the store-bought version (or COTS if you prefer). I say \"almost\" because we seemed to get an accuracy cap of 90% on our custom engine, but the optimized version capped around 92%. "
   ]
  },
  {
   "cell_type": "markdown",
   "id": "a205aa91-7295-4a15-8466-afae4135b7ee",
   "metadata": {},
   "source": [
    "## Deep Learning Models\n",
    "\n",
    "Remember earlier we talked about the difference between ML and DL as using *layers* of models. The way we do this is to apply more than one model and separate those models with a non-linearity. So, more fancy words. If we had a function $y_1 = m_1 \\times x +b_1$ and another function $y_2 = m_2 \\times x+b_2$, we couldn't just add these two together and expect a different type of function. If we did, we would just get $y_{1+2} = m_{1+2} \\times x+b_{1+2}$. The problem is that the model doesn't care about the difference between $m_1$ and $m_2$; it just see weights and a bias. \n",
    "\n",
    "We can *separate* these models with something like a Recitified Linear Unit (or ReLu). All it does is $\\text{ReLu}(x)$ turns the number into zero if its negative, otherwise it leaves it alone.  This little ReLu turns two linear models into a very simple neural net. \n",
    "\n",
    "The genius of this is that instead of fitting a line to data, we can fit several layers of Linear/ReLus to achieve a very precise function. Most data won't be fit well by a linear model. However, almost all data can be fit by some arbitrarily large combination of linear models and ReLus.\n"
   ]
  },
  {
   "cell_type": "markdown",
   "id": "e2e656c2-b1c0-497c-9dfd-cb41e7ca534f",
   "metadata": {},
   "source": [
    "![linear](linear.png)"
   ]
  },
  {
   "cell_type": "code",
   "execution_count": 13,
   "id": "e7ed1f35-50ac-4717-81a2-03dfb6172998",
   "metadata": {},
   "outputs": [
    {
     "data": {
      "text/html": [
       "\n",
       "<style>\n",
       "    /* Turns off some styling */\n",
       "    progress {\n",
       "        /* gets rid of default border in Firefox and Opera. */\n",
       "        border: none;\n",
       "        /* Needs to be in here for Safari polyfill so background images work as expected. */\n",
       "        background-size: auto;\n",
       "    }\n",
       "    progress:not([value]), progress:not([value])::-webkit-progress-bar {\n",
       "        background: repeating-linear-gradient(45deg, #7e7e7e, #7e7e7e 10px, #5c5c5c 10px, #5c5c5c 20px);\n",
       "    }\n",
       "    .progress-bar-interrupted, .progress-bar-interrupted::-webkit-progress-bar {\n",
       "        background: #F44336;\n",
       "    }\n",
       "</style>\n"
      ],
      "text/plain": [
       "<IPython.core.display.HTML object>"
      ]
     },
     "metadata": {},
     "output_type": "display_data"
    },
    {
     "data": {
      "text/html": [
       "<table border=\"1\" class=\"dataframe\">\n",
       "  <thead>\n",
       "    <tr style=\"text-align: left;\">\n",
       "      <th>epoch</th>\n",
       "      <th>train_loss</th>\n",
       "      <th>valid_loss</th>\n",
       "      <th>batch_accuracy</th>\n",
       "      <th>time</th>\n",
       "    </tr>\n",
       "  </thead>\n",
       "  <tbody>\n",
       "    <tr>\n",
       "      <td>0</td>\n",
       "      <td>0.362304</td>\n",
       "      <td>0.329384</td>\n",
       "      <td>0.905600</td>\n",
       "      <td>00:00</td>\n",
       "    </tr>\n",
       "    <tr>\n",
       "      <td>1</td>\n",
       "      <td>0.278429</td>\n",
       "      <td>0.249775</td>\n",
       "      <td>0.928900</td>\n",
       "      <td>00:00</td>\n",
       "    </tr>\n",
       "    <tr>\n",
       "      <td>2</td>\n",
       "      <td>0.237960</td>\n",
       "      <td>0.229455</td>\n",
       "      <td>0.930400</td>\n",
       "      <td>00:00</td>\n",
       "    </tr>\n",
       "    <tr>\n",
       "      <td>3</td>\n",
       "      <td>0.208032</td>\n",
       "      <td>0.208346</td>\n",
       "      <td>0.937100</td>\n",
       "      <td>00:00</td>\n",
       "    </tr>\n",
       "    <tr>\n",
       "      <td>4</td>\n",
       "      <td>0.181758</td>\n",
       "      <td>0.183263</td>\n",
       "      <td>0.945700</td>\n",
       "      <td>00:00</td>\n",
       "    </tr>\n",
       "    <tr>\n",
       "      <td>5</td>\n",
       "      <td>0.167817</td>\n",
       "      <td>0.172169</td>\n",
       "      <td>0.949300</td>\n",
       "      <td>00:00</td>\n",
       "    </tr>\n",
       "    <tr>\n",
       "      <td>6</td>\n",
       "      <td>0.157353</td>\n",
       "      <td>0.155710</td>\n",
       "      <td>0.953900</td>\n",
       "      <td>00:00</td>\n",
       "    </tr>\n",
       "    <tr>\n",
       "      <td>7</td>\n",
       "      <td>0.145984</td>\n",
       "      <td>0.175108</td>\n",
       "      <td>0.947600</td>\n",
       "      <td>00:00</td>\n",
       "    </tr>\n",
       "    <tr>\n",
       "      <td>8</td>\n",
       "      <td>0.142243</td>\n",
       "      <td>0.185708</td>\n",
       "      <td>0.939700</td>\n",
       "      <td>00:00</td>\n",
       "    </tr>\n",
       "    <tr>\n",
       "      <td>9</td>\n",
       "      <td>0.131697</td>\n",
       "      <td>0.151334</td>\n",
       "      <td>0.953200</td>\n",
       "      <td>00:00</td>\n",
       "    </tr>\n",
       "    <tr>\n",
       "      <td>10</td>\n",
       "      <td>0.120169</td>\n",
       "      <td>0.140592</td>\n",
       "      <td>0.957600</td>\n",
       "      <td>00:00</td>\n",
       "    </tr>\n",
       "    <tr>\n",
       "      <td>11</td>\n",
       "      <td>0.118723</td>\n",
       "      <td>0.128918</td>\n",
       "      <td>0.961100</td>\n",
       "      <td>00:00</td>\n",
       "    </tr>\n",
       "    <tr>\n",
       "      <td>12</td>\n",
       "      <td>0.108958</td>\n",
       "      <td>0.134065</td>\n",
       "      <td>0.961300</td>\n",
       "      <td>00:00</td>\n",
       "    </tr>\n",
       "    <tr>\n",
       "      <td>13</td>\n",
       "      <td>0.101567</td>\n",
       "      <td>0.130075</td>\n",
       "      <td>0.960400</td>\n",
       "      <td>00:00</td>\n",
       "    </tr>\n",
       "    <tr>\n",
       "      <td>14</td>\n",
       "      <td>0.105227</td>\n",
       "      <td>0.120318</td>\n",
       "      <td>0.961100</td>\n",
       "      <td>00:00</td>\n",
       "    </tr>\n",
       "    <tr>\n",
       "      <td>15</td>\n",
       "      <td>0.099600</td>\n",
       "      <td>0.115329</td>\n",
       "      <td>0.964500</td>\n",
       "      <td>00:00</td>\n",
       "    </tr>\n",
       "    <tr>\n",
       "      <td>16</td>\n",
       "      <td>0.094892</td>\n",
       "      <td>0.120461</td>\n",
       "      <td>0.964300</td>\n",
       "      <td>00:00</td>\n",
       "    </tr>\n",
       "    <tr>\n",
       "      <td>17</td>\n",
       "      <td>0.097695</td>\n",
       "      <td>0.119797</td>\n",
       "      <td>0.963400</td>\n",
       "      <td>00:00</td>\n",
       "    </tr>\n",
       "    <tr>\n",
       "      <td>18</td>\n",
       "      <td>0.091835</td>\n",
       "      <td>0.141129</td>\n",
       "      <td>0.958500</td>\n",
       "      <td>00:00</td>\n",
       "    </tr>\n",
       "    <tr>\n",
       "      <td>19</td>\n",
       "      <td>0.087854</td>\n",
       "      <td>0.120385</td>\n",
       "      <td>0.964300</td>\n",
       "      <td>00:00</td>\n",
       "    </tr>\n",
       "  </tbody>\n",
       "</table>"
      ],
      "text/plain": [
       "<IPython.core.display.HTML object>"
      ]
     },
     "metadata": {},
     "output_type": "display_data"
    }
   ],
   "source": [
    "simple_net = nn.Sequential(\n",
    "    nn.Linear(28*28,30),\n",
    "    nn.ReLU(),\n",
    "    nn.Linear(30,10)\n",
    ")\n",
    "\n",
    "learn = Learner(dls, simple_net, opt_func=SGD,\n",
    "                loss_func=mnist_loss, metrics=batch_accuracy)\n",
    "lr = .25\n",
    "learn.fit(20, lr=lr)\n"
   ]
  },
  {
   "cell_type": "markdown",
   "id": "f040a3ca-4a50-4637-b521-910f53e5ff1e",
   "metadata": {},
   "source": [
    "![2relu](relu_2.png)"
   ]
  },
  {
   "cell_type": "markdown",
   "id": "c464f012-00a2-4b9a-ba46-338ab31af3ab",
   "metadata": {},
   "source": [
    "We can keep going! We can use resnet18 which contains many more than 2 layers. These are the layers that we refer to when we say \"deep learning\"; its deep because it has so many layers of linear and nonlinear activations!"
   ]
  },
  {
   "cell_type": "code",
   "execution_count": 14,
   "id": "dcca2aa6-0305-4107-8851-7f770722b5eb",
   "metadata": {},
   "outputs": [
    {
     "data": {
      "text/html": [
       "\n",
       "<style>\n",
       "    /* Turns off some styling */\n",
       "    progress {\n",
       "        /* gets rid of default border in Firefox and Opera. */\n",
       "        border: none;\n",
       "        /* Needs to be in here for Safari polyfill so background images work as expected. */\n",
       "        background-size: auto;\n",
       "    }\n",
       "    progress:not([value]), progress:not([value])::-webkit-progress-bar {\n",
       "        background: repeating-linear-gradient(45deg, #7e7e7e, #7e7e7e 10px, #5c5c5c 10px, #5c5c5c 20px);\n",
       "    }\n",
       "    .progress-bar-interrupted, .progress-bar-interrupted::-webkit-progress-bar {\n",
       "        background: #F44336;\n",
       "    }\n",
       "</style>\n"
      ],
      "text/plain": [
       "<IPython.core.display.HTML object>"
      ]
     },
     "metadata": {},
     "output_type": "display_data"
    },
    {
     "data": {
      "text/html": [
       "<table border=\"1\" class=\"dataframe\">\n",
       "  <thead>\n",
       "    <tr style=\"text-align: left;\">\n",
       "      <th>epoch</th>\n",
       "      <th>train_loss</th>\n",
       "      <th>valid_loss</th>\n",
       "      <th>accuracy</th>\n",
       "      <th>time</th>\n",
       "    </tr>\n",
       "  </thead>\n",
       "  <tbody>\n",
       "    <tr>\n",
       "      <td>0</td>\n",
       "      <td>0.150041</td>\n",
       "      <td>0.057427</td>\n",
       "      <td>0.985800</td>\n",
       "      <td>00:55</td>\n",
       "    </tr>\n",
       "  </tbody>\n",
       "</table>"
      ],
      "text/plain": [
       "<IPython.core.display.HTML object>"
      ]
     },
     "metadata": {},
     "output_type": "display_data"
    }
   ],
   "source": [
    "\n",
    "dls = ImageDataLoaders.from_folder(\n",
    "    path,\n",
    "    train='training',\n",
    "    valid='testing',\n",
    "    valid_pct=None,        # use full test set\n",
    "    seed=42,\n",
    "    bs=64,                  # you can adjust batch size\n",
    "    item_tfms=Resize(224)   # resnet needs larger images\n",
    ")\n",
    "learn = vision_learner(dls, resnet18, pretrained=False,\n",
    "                    loss_func=F.cross_entropy, metrics=accuracy)\n",
    "learn.fit_one_cycle(1, 0.1)"
   ]
  },
  {
   "cell_type": "markdown",
   "id": "1eba7f32-8005-4ee4-80c8-6bc0a9949e4d",
   "metadata": {},
   "source": [
    "## Conclusion\n",
    "\n",
    "Did we meet our goal? We wanted to classify digits in the MNIST dataset more accurately than our baseline of ~83%. We beat it immediately with our first ML model in around 2-3 epochs with 90%. We then optimized our code and got 92% accuracy. We used the simplest possible deep learning model, a 2-layer neural net with a non-linear activation, and got 96% accuracy. Then we used a more standard deep learning model, resnet 18, and got 98% accuracy in only one epoch. Granted, this last training took longer than the others. \n",
    "\n",
    "\n",
    "Ok so we learned a lot. \n",
    "\n",
    "* Saw the difference in performance between baseline, ML, and DL\n",
    "* Learned how to format data and optimize code.\n",
    "* Got a grounding in the mathematical principles of ML and DL\n",
    "\n",
    "This was a hard project for me and I'm glad I finished. The hardest part was writing the code from scratch. Hopefully I never have to do that again, but at least I know I can if necessary. It's pretty amazing to think about the potential of activating deep learning models on all sorts of intriguing datasets!"
   ]
  }
 ],
 "metadata": {
  "kernelspec": {
   "display_name": "Python 3 (ipykernel)",
   "language": "python",
   "name": "python3"
  },
  "language_info": {
   "codemirror_mode": {
    "name": "ipython",
    "version": 3
   },
   "file_extension": ".py",
   "mimetype": "text/x-python",
   "name": "python",
   "nbconvert_exporter": "python",
   "pygments_lexer": "ipython3",
   "version": "3.10.16"
  }
 },
 "nbformat": 4,
 "nbformat_minor": 5
}
